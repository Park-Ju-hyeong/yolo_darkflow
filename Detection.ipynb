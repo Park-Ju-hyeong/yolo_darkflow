{
 "cells": [
  {
   "cell_type": "code",
   "execution_count": 1,
   "metadata": {
    "scrolled": false
   },
   "outputs": [
    {
     "name": "stderr",
     "output_type": "stream",
     "text": [
      "/home/jhpark/anaconda3/lib/python3.6/site-packages/h5py/__init__.py:36: FutureWarning: Conversion of the second argument of issubdtype from `float` to `np.floating` is deprecated. In future, it will be treated as `np.float64 == np.dtype(float).type`.\n",
      "  from ._conv import register_converters as _register_converters\n"
     ]
    },
    {
     "name": "stdout",
     "output_type": "stream",
     "text": [
      "WARNING:tensorflow:From /home/jhpark/anaconda3/lib/python3.6/site-packages/tensorflow/contrib/learn/python/learn/datasets/base.py:198: retry (from tensorflow.contrib.learn.python.learn.datasets.base) is deprecated and will be removed in a future version.\n",
      "Instructions for updating:\n",
      "Use the retry module or similar alternatives.\n",
      "\n",
      "Parsing ./cfg/car-yolo.cfg\n",
      "Loading None ...\n",
      "Finished in 0.000274658203125s\n",
      "\n",
      "Building net ...\n",
      "Source | Train? | Layer description                | Output size\n",
      "-------+--------+----------------------------------+---------------\n",
      "       |        | input                            | (?, 608, 608, 3)\n",
      " Init  |  Yep!  | conv 3x3p1_1  +bnorm  leaky      | (?, 608, 608, 32)\n",
      " Load  |  Yep!  | maxp 2x2p0_2                     | (?, 304, 304, 32)\n",
      " Init  |  Yep!  | conv 3x3p1_1  +bnorm  leaky      | (?, 304, 304, 64)\n",
      " Load  |  Yep!  | maxp 2x2p0_2                     | (?, 152, 152, 64)\n",
      " Init  |  Yep!  | conv 3x3p1_1  +bnorm  leaky      | (?, 152, 152, 128)\n",
      " Init  |  Yep!  | conv 1x1p0_1  +bnorm  leaky      | (?, 152, 152, 64)\n",
      " Init  |  Yep!  | conv 3x3p1_1  +bnorm  leaky      | (?, 152, 152, 128)\n",
      " Load  |  Yep!  | maxp 2x2p0_2                     | (?, 76, 76, 128)\n",
      " Init  |  Yep!  | conv 3x3p1_1  +bnorm  leaky      | (?, 76, 76, 256)\n",
      " Init  |  Yep!  | conv 1x1p0_1  +bnorm  leaky      | (?, 76, 76, 128)\n",
      " Init  |  Yep!  | conv 3x3p1_1  +bnorm  leaky      | (?, 76, 76, 256)\n",
      " Load  |  Yep!  | maxp 2x2p0_2                     | (?, 38, 38, 256)\n",
      " Init  |  Yep!  | conv 3x3p1_1  +bnorm  leaky      | (?, 38, 38, 512)\n",
      " Init  |  Yep!  | conv 1x1p0_1  +bnorm  leaky      | (?, 38, 38, 256)\n",
      " Init  |  Yep!  | conv 3x3p1_1  +bnorm  leaky      | (?, 38, 38, 512)\n",
      " Init  |  Yep!  | conv 1x1p0_1  +bnorm  leaky      | (?, 38, 38, 256)\n",
      " Init  |  Yep!  | conv 3x3p1_1  +bnorm  leaky      | (?, 38, 38, 512)\n",
      " Load  |  Yep!  | maxp 2x2p0_2                     | (?, 19, 19, 512)\n",
      " Init  |  Yep!  | conv 3x3p1_1  +bnorm  leaky      | (?, 19, 19, 1024)\n",
      " Init  |  Yep!  | conv 1x1p0_1  +bnorm  leaky      | (?, 19, 19, 512)\n",
      " Init  |  Yep!  | conv 3x3p1_1  +bnorm  leaky      | (?, 19, 19, 1024)\n",
      " Init  |  Yep!  | conv 1x1p0_1  +bnorm  leaky      | (?, 19, 19, 512)\n",
      " Init  |  Yep!  | conv 3x3p1_1  +bnorm  leaky      | (?, 19, 19, 1024)\n",
      " Init  |  Yep!  | conv 3x3p1_1  +bnorm  leaky      | (?, 19, 19, 1024)\n",
      " Init  |  Yep!  | conv 3x3p1_1  +bnorm  leaky      | (?, 19, 19, 1024)\n",
      " Load  |  Yep!  | concat [16]                      | (?, 38, 38, 512)\n",
      " Init  |  Yep!  | conv 1x1p0_1  +bnorm  leaky      | (?, 38, 38, 64)\n",
      " Load  |  Yep!  | local flatten 2x2                | (?, 19, 19, 256)\n",
      " Load  |  Yep!  | concat [27, 24]                  | (?, 19, 19, 1280)\n",
      " Init  |  Yep!  | conv 3x3p1_1  +bnorm  leaky      | (?, 19, 19, 1024)\n",
      " Init  |  Yep!  | conv 1x1p0_1    linear           | (?, 19, 19, 80)\n",
      "-------+--------+----------------------------------+---------------\n",
      "Running entirely on CPU\n",
      "Loading from ./ckpt/car-yolo-36500\n",
      "INFO:tensorflow:Restoring parameters from ./ckpt/car-yolo-36500\n",
      "Finished in 7.739076375961304s\n",
      "\n",
      "Forwarding 1 inputs ...\n",
      "Total time = 0.7047884464263916s / 1 inps = 1.4188654837781034 ips\n",
      "Post processing 1 inputs ...\n",
      "Total time = 0.04215097427368164s / 1 inps = 23.724244035431067 ips\n",
      "Forwarding 1 inputs ...\n",
      "Total time = 0.5988802909851074s / 1 inps = 1.6697827847282878 ips\n",
      "Post processing 1 inputs ...\n",
      "Total time = 0.032765865325927734s / 1 inps = 30.51956632467438 ips\n",
      "Forwarding 1 inputs ...\n",
      "Total time = 0.5872888565063477s / 1 inps = 1.7027396125797112 ips\n",
      "Post processing 1 inputs ...\n",
      "Total time = 0.02068948745727539s / 1 inps = 48.33372513770772 ips\n",
      "Forwarding 1 inputs ...\n",
      "Total time = 0.5618960857391357s / 1 inps = 1.7796884964674005 ips\n",
      "Post processing 1 inputs ...\n",
      "Total time = 0.02906966209411621s / 1 inps = 34.40012466475842 ips\n",
      "Forwarding 1 inputs ...\n",
      "Total time = 0.6497766971588135s / 1 inps = 1.5389902475305106 ips\n",
      "Post processing 1 inputs ...\n",
      "Total time = 0.017671823501586914s / 1 inps = 56.58725597334089 ips\n",
      "Forwarding 1 inputs ...\n",
      "Total time = 0.5871667861938477s / 1 inps = 1.7030936073244771 ips\n",
      "Post processing 1 inputs ...\n",
      "Total time = 0.02790236473083496s / 1 inps = 35.839256265433946 ips\n",
      "Forwarding 1 inputs ...\n",
      "Total time = 0.6595494747161865s / 1 inps = 1.5161864853736926 ips\n",
      "Post processing 1 inputs ...\n",
      "Total time = 0.026935815811157227s / 1 inps = 37.125290988431274 ips\n",
      "Forwarding 1 inputs ...\n",
      "Total time = 0.6253936290740967s / 1 inps = 1.5989929438208588 ips\n",
      "Post processing 1 inputs ...\n",
      "Total time = 0.023468494415283203s / 1 inps = 42.610317573196255 ips\n"
     ]
    }
   ],
   "source": [
    "%run \\\n",
    "flow \\\n",
    "--imgdir ../data/testset/ \\\n",
    "--model ./cfg/car-yolo.cfg \\\n",
    "--load -1 \\\n",
    "--batch 1 \\"
   ]
  }
 ],
 "metadata": {
  "kernelspec": {
   "display_name": "Python 3",
   "language": "python",
   "name": "python3"
  },
  "language_info": {
   "codemirror_mode": {
    "name": "ipython",
    "version": 3
   },
   "file_extension": ".py",
   "mimetype": "text/x-python",
   "name": "python",
   "nbconvert_exporter": "python",
   "pygments_lexer": "ipython3",
   "version": "3.6.4"
  }
 },
 "nbformat": 4,
 "nbformat_minor": 2
}
